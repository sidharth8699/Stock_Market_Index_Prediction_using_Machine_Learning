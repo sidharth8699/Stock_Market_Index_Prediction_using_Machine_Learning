{
 "cells": [
  {
   "cell_type": "markdown",
   "metadata": {},
   "source": [
    "### Stock Market Prediction And Forecasting Using Stacked LSTM"
   ]
  },
  {
   "cell_type": "code",
   "execution_count": 1,
   "metadata": {},
   "outputs": [],
   "source": [
    "### Keras and Tensorflow >2.0"
   ]
  },
  {
   "cell_type": "code",
   "execution_count": 2,
   "metadata": {},
   "outputs": [],
   "source": [
    "import pandas as pd"
   ]
  },
  {
   "cell_type": "code",
   "execution_count": 4,
   "metadata": {},
   "outputs": [
    {
     "data": {
      "text/html": [
       "<div>\n",
       "<style scoped>\n",
       "    .dataframe tbody tr th:only-of-type {\n",
       "        vertical-align: middle;\n",
       "    }\n",
       "\n",
       "    .dataframe tbody tr th {\n",
       "        vertical-align: top;\n",
       "    }\n",
       "\n",
       "    .dataframe thead th {\n",
       "        text-align: right;\n",
       "    }\n",
       "</style>\n",
       "<table border=\"1\" class=\"dataframe\">\n",
       "  <thead>\n",
       "    <tr style=\"text-align: right;\">\n",
       "      <th></th>\n",
       "      <th>Date</th>\n",
       "      <th>Open</th>\n",
       "      <th>High</th>\n",
       "      <th>Low</th>\n",
       "      <th>Close</th>\n",
       "      <th>Adj Close</th>\n",
       "      <th>Volume</th>\n",
       "    </tr>\n",
       "  </thead>\n",
       "  <tbody>\n",
       "    <tr>\n",
       "      <th>0</th>\n",
       "      <td>2010-01-04</td>\n",
       "      <td>5200.899902</td>\n",
       "      <td>5238.450195</td>\n",
       "      <td>5167.100098</td>\n",
       "      <td>5232.200195</td>\n",
       "      <td>5232.200195</td>\n",
       "      <td>0.0</td>\n",
       "    </tr>\n",
       "    <tr>\n",
       "      <th>1</th>\n",
       "      <td>2010-01-05</td>\n",
       "      <td>5277.149902</td>\n",
       "      <td>5288.350098</td>\n",
       "      <td>5242.399902</td>\n",
       "      <td>5277.899902</td>\n",
       "      <td>5277.899902</td>\n",
       "      <td>0.0</td>\n",
       "    </tr>\n",
       "    <tr>\n",
       "      <th>2</th>\n",
       "      <td>2010-01-06</td>\n",
       "      <td>5278.149902</td>\n",
       "      <td>5310.850098</td>\n",
       "      <td>5260.049805</td>\n",
       "      <td>5281.799805</td>\n",
       "      <td>5281.799805</td>\n",
       "      <td>0.0</td>\n",
       "    </tr>\n",
       "    <tr>\n",
       "      <th>3</th>\n",
       "      <td>2010-01-07</td>\n",
       "      <td>5281.799805</td>\n",
       "      <td>5302.549805</td>\n",
       "      <td>5244.750000</td>\n",
       "      <td>5263.100098</td>\n",
       "      <td>5263.100098</td>\n",
       "      <td>0.0</td>\n",
       "    </tr>\n",
       "    <tr>\n",
       "      <th>4</th>\n",
       "      <td>2010-01-08</td>\n",
       "      <td>5264.250000</td>\n",
       "      <td>5276.750000</td>\n",
       "      <td>5234.700195</td>\n",
       "      <td>5244.750000</td>\n",
       "      <td>5244.750000</td>\n",
       "      <td>0.0</td>\n",
       "    </tr>\n",
       "    <tr>\n",
       "      <th>...</th>\n",
       "      <td>...</td>\n",
       "      <td>...</td>\n",
       "      <td>...</td>\n",
       "      <td>...</td>\n",
       "      <td>...</td>\n",
       "      <td>...</td>\n",
       "      <td>...</td>\n",
       "    </tr>\n",
       "    <tr>\n",
       "      <th>2689</th>\n",
       "      <td>2021-04-26</td>\n",
       "      <td>14449.450200</td>\n",
       "      <td>14557.500000</td>\n",
       "      <td>14421.299810</td>\n",
       "      <td>14485.000000</td>\n",
       "      <td>14485.000000</td>\n",
       "      <td>452700.0</td>\n",
       "    </tr>\n",
       "    <tr>\n",
       "      <th>2690</th>\n",
       "      <td>2021-04-27</td>\n",
       "      <td>14493.799810</td>\n",
       "      <td>14667.549810</td>\n",
       "      <td>14484.849610</td>\n",
       "      <td>14653.049810</td>\n",
       "      <td>14653.049810</td>\n",
       "      <td>451800.0</td>\n",
       "    </tr>\n",
       "    <tr>\n",
       "      <th>2691</th>\n",
       "      <td>2021-04-28</td>\n",
       "      <td>14710.500000</td>\n",
       "      <td>14890.250000</td>\n",
       "      <td>14694.950200</td>\n",
       "      <td>14864.549810</td>\n",
       "      <td>14864.549810</td>\n",
       "      <td>457000.0</td>\n",
       "    </tr>\n",
       "    <tr>\n",
       "      <th>2692</th>\n",
       "      <td>2021-04-29</td>\n",
       "      <td>14979.000000</td>\n",
       "      <td>15044.349610</td>\n",
       "      <td>14814.450200</td>\n",
       "      <td>14894.900390</td>\n",
       "      <td>14894.900390</td>\n",
       "      <td>517500.0</td>\n",
       "    </tr>\n",
       "    <tr>\n",
       "      <th>2693</th>\n",
       "      <td>2021-04-30</td>\n",
       "      <td>14747.349610</td>\n",
       "      <td>14855.450200</td>\n",
       "      <td>14601.700200</td>\n",
       "      <td>14631.099610</td>\n",
       "      <td>14631.099610</td>\n",
       "      <td>613900.0</td>\n",
       "    </tr>\n",
       "  </tbody>\n",
       "</table>\n",
       "<p>2694 rows × 7 columns</p>\n",
       "</div>"
      ],
      "text/plain": [
       "            Date          Open          High           Low         Close  \\\n",
       "0     2010-01-04   5200.899902   5238.450195   5167.100098   5232.200195   \n",
       "1     2010-01-05   5277.149902   5288.350098   5242.399902   5277.899902   \n",
       "2     2010-01-06   5278.149902   5310.850098   5260.049805   5281.799805   \n",
       "3     2010-01-07   5281.799805   5302.549805   5244.750000   5263.100098   \n",
       "4     2010-01-08   5264.250000   5276.750000   5234.700195   5244.750000   \n",
       "...          ...           ...           ...           ...           ...   \n",
       "2689  2021-04-26  14449.450200  14557.500000  14421.299810  14485.000000   \n",
       "2690  2021-04-27  14493.799810  14667.549810  14484.849610  14653.049810   \n",
       "2691  2021-04-28  14710.500000  14890.250000  14694.950200  14864.549810   \n",
       "2692  2021-04-29  14979.000000  15044.349610  14814.450200  14894.900390   \n",
       "2693  2021-04-30  14747.349610  14855.450200  14601.700200  14631.099610   \n",
       "\n",
       "         Adj Close    Volume  \n",
       "0      5232.200195       0.0  \n",
       "1      5277.899902       0.0  \n",
       "2      5281.799805       0.0  \n",
       "3      5263.100098       0.0  \n",
       "4      5244.750000       0.0  \n",
       "...            ...       ...  \n",
       "2689  14485.000000  452700.0  \n",
       "2690  14653.049810  451800.0  \n",
       "2691  14864.549810  457000.0  \n",
       "2692  14894.900390  517500.0  \n",
       "2693  14631.099610  613900.0  \n",
       "\n",
       "[2694 rows x 7 columns]"
      ]
     },
     "execution_count": 4,
     "metadata": {},
     "output_type": "execute_result"
    }
   ],
   "source": [
    "file = r\"C:\\Users\\Tejaswa\\Desktop\\798q_FINAL\\798q_FINAL\\df.csv\"\n",
    "df=pd.read_csv(file)\n",
    "df"
   ]
  },
  {
   "cell_type": "code",
   "execution_count": 5,
   "metadata": {},
   "outputs": [],
   "source": [
    "df1=df[['Date','Close']]"
   ]
  },
  {
   "cell_type": "code",
   "execution_count": 6,
   "metadata": {},
   "outputs": [
    {
     "data": {
      "text/html": [
       "<div>\n",
       "<style scoped>\n",
       "    .dataframe tbody tr th:only-of-type {\n",
       "        vertical-align: middle;\n",
       "    }\n",
       "\n",
       "    .dataframe tbody tr th {\n",
       "        vertical-align: top;\n",
       "    }\n",
       "\n",
       "    .dataframe thead th {\n",
       "        text-align: right;\n",
       "    }\n",
       "</style>\n",
       "<table border=\"1\" class=\"dataframe\">\n",
       "  <thead>\n",
       "    <tr style=\"text-align: right;\">\n",
       "      <th></th>\n",
       "      <th>Date</th>\n",
       "      <th>Close</th>\n",
       "    </tr>\n",
       "  </thead>\n",
       "  <tbody>\n",
       "    <tr>\n",
       "      <th>0</th>\n",
       "      <td>2010-01-04</td>\n",
       "      <td>5232.200195</td>\n",
       "    </tr>\n",
       "    <tr>\n",
       "      <th>1</th>\n",
       "      <td>2010-01-05</td>\n",
       "      <td>5277.899902</td>\n",
       "    </tr>\n",
       "    <tr>\n",
       "      <th>2</th>\n",
       "      <td>2010-01-06</td>\n",
       "      <td>5281.799805</td>\n",
       "    </tr>\n",
       "    <tr>\n",
       "      <th>3</th>\n",
       "      <td>2010-01-07</td>\n",
       "      <td>5263.100098</td>\n",
       "    </tr>\n",
       "    <tr>\n",
       "      <th>4</th>\n",
       "      <td>2010-01-08</td>\n",
       "      <td>5244.750000</td>\n",
       "    </tr>\n",
       "    <tr>\n",
       "      <th>...</th>\n",
       "      <td>...</td>\n",
       "      <td>...</td>\n",
       "    </tr>\n",
       "    <tr>\n",
       "      <th>2689</th>\n",
       "      <td>2021-04-26</td>\n",
       "      <td>14485.000000</td>\n",
       "    </tr>\n",
       "    <tr>\n",
       "      <th>2690</th>\n",
       "      <td>2021-04-27</td>\n",
       "      <td>14653.049810</td>\n",
       "    </tr>\n",
       "    <tr>\n",
       "      <th>2691</th>\n",
       "      <td>2021-04-28</td>\n",
       "      <td>14864.549810</td>\n",
       "    </tr>\n",
       "    <tr>\n",
       "      <th>2692</th>\n",
       "      <td>2021-04-29</td>\n",
       "      <td>14894.900390</td>\n",
       "    </tr>\n",
       "    <tr>\n",
       "      <th>2693</th>\n",
       "      <td>2021-04-30</td>\n",
       "      <td>14631.099610</td>\n",
       "    </tr>\n",
       "  </tbody>\n",
       "</table>\n",
       "<p>2694 rows × 2 columns</p>\n",
       "</div>"
      ],
      "text/plain": [
       "            Date         Close\n",
       "0     2010-01-04   5232.200195\n",
       "1     2010-01-05   5277.899902\n",
       "2     2010-01-06   5281.799805\n",
       "3     2010-01-07   5263.100098\n",
       "4     2010-01-08   5244.750000\n",
       "...          ...           ...\n",
       "2689  2021-04-26  14485.000000\n",
       "2690  2021-04-27  14653.049810\n",
       "2691  2021-04-28  14864.549810\n",
       "2692  2021-04-29  14894.900390\n",
       "2693  2021-04-30  14631.099610\n",
       "\n",
       "[2694 rows x 2 columns]"
      ]
     },
     "execution_count": 6,
     "metadata": {},
     "output_type": "execute_result"
    }
   ],
   "source": [
    "df1"
   ]
  },
  {
   "cell_type": "code",
   "execution_count": 7,
   "metadata": {},
   "outputs": [
    {
     "data": {
      "text/plain": [
       "(2694, 2)"
      ]
     },
     "execution_count": 7,
     "metadata": {},
     "output_type": "execute_result"
    }
   ],
   "source": [
    "df1.shape"
   ]
  },
  {
   "cell_type": "code",
   "execution_count": 8,
   "metadata": {},
   "outputs": [
    {
     "name": "stderr",
     "output_type": "stream",
     "text": [
      "C:\\Users\\Tejaswa\\AppData\\Local\\Temp\\ipykernel_21972\\1148610173.py:1: SettingWithCopyWarning: \n",
      "A value is trying to be set on a copy of a slice from a DataFrame.\n",
      "Try using .loc[row_indexer,col_indexer] = value instead\n",
      "\n",
      "See the caveats in the documentation: https://pandas.pydata.org/pandas-docs/stable/user_guide/indexing.html#returning-a-view-versus-a-copy\n",
      "  df1['Date'] = pd.to_datetime(df1['Date'])\n"
     ]
    }
   ],
   "source": [
    "df1['Date'] = pd.to_datetime(df1['Date'])"
   ]
  },
  {
   "cell_type": "code",
   "execution_count": 9,
   "metadata": {},
   "outputs": [
    {
     "data": {
      "text/plain": [
       "0      2010-01-04\n",
       "1      2010-01-05\n",
       "2      2010-01-06\n",
       "3      2010-01-07\n",
       "4      2010-01-08\n",
       "          ...    \n",
       "2689   2021-04-26\n",
       "2690   2021-04-27\n",
       "2691   2021-04-28\n",
       "2692   2021-04-29\n",
       "2693   2021-04-30\n",
       "Name: Date, Length: 2694, dtype: datetime64[ns]"
      ]
     },
     "execution_count": 9,
     "metadata": {},
     "output_type": "execute_result"
    }
   ],
   "source": [
    "df1['Date']"
   ]
  },
  {
   "cell_type": "code",
   "execution_count": 10,
   "metadata": {},
   "outputs": [
    {
     "name": "stderr",
     "output_type": "stream",
     "text": [
      "C:\\Users\\Tejaswa\\AppData\\Local\\Temp\\ipykernel_21972\\362483146.py:4: SettingWithCopyWarning: \n",
      "A value is trying to be set on a copy of a slice from a DataFrame\n",
      "\n",
      "See the caveats in the documentation: https://pandas.pydata.org/pandas-docs/stable/user_guide/indexing.html#returning-a-view-versus-a-copy\n",
      "  df1.dropna(subset=['Close'], inplace=True)\n"
     ]
    }
   ],
   "source": [
    "import pandas as pd\n",
    "\n",
    "# Assuming you have a DataFrame named 'df' with columns 'A' and 'B'\n",
    "df1.dropna(subset=['Close'], inplace=True)"
   ]
  },
  {
   "cell_type": "code",
   "execution_count": 11,
   "metadata": {},
   "outputs": [
    {
     "data": {
      "text/plain": [
       "[<matplotlib.lines.Line2D at 0x1cce8193d00>]"
      ]
     },
     "execution_count": 11,
     "metadata": {},
     "output_type": "execute_result"
    },
    {
     "data": {
      "image/png": "[encoded data removed]",
      "text/plain": [
       "<Figure size 640x480 with 1 Axes>"
      ]
     },
     "metadata": {},
     "output_type": "display_data"
    }
   ],
   "source": [
    "import matplotlib.pyplot as plt\n",
    "plt.plot(df1['Date'],df1['Close'])"
   ]
  },
  {
   "cell_type": "code",
   "execution_count": 12,
   "metadata": {},
   "outputs": [],
   "source": [
    "### LSTM are sensitive to the scale of the data. so we apply MinMax scaler "
   ]
  },
  {
   "cell_type": "code",
   "execution_count": 13,
   "metadata": {},
   "outputs": [],
   "source": [
    "import numpy as np"
   ]
  },
  {
   "cell_type": "code",
   "execution_count": 14,
   "metadata": {},
   "outputs": [
    {
     "data": {
      "text/plain": [
       "0        5232.200195\n",
       "1        5277.899902\n",
       "2        5281.799805\n",
       "3        5263.100098\n",
       "4        5244.750000\n",
       "            ...     \n",
       "2689    14485.000000\n",
       "2690    14653.049810\n",
       "2691    14864.549810\n",
       "2692    14894.900390\n",
       "2693    14631.099610\n",
       "Name: Close, Length: 2667, dtype: float64"
      ]
     },
     "execution_count": 14,
     "metadata": {},
     "output_type": "execute_result"
    }
   ],
   "source": [
    "df1=df1['Close']\n",
    "df1"
   ]
  },
  {
   "cell_type": "code",
   "execution_count": 15,
   "metadata": {},
   "outputs": [],
   "source": [
    "from sklearn.preprocessing import MinMaxScaler\n",
    "scaler=MinMaxScaler(feature_range=(0,1))\n",
    "df1=scaler.fit_transform(np.array(df1).reshape(-1,1))"
   ]
  },
  {
   "cell_type": "code",
   "execution_count": 16,
   "metadata": {},
   "outputs": [
    {
     "name": "stdout",
     "output_type": "stream",
     "text": [
      "[[0.06387819]\n",
      " [0.06812123]\n",
      " [0.06848332]\n",
      " ...\n",
      " [0.95820525]\n",
      " [0.96102318]\n",
      " [0.93653028]]\n"
     ]
    }
   ],
   "source": [
    "print(df1)"
   ]
  },
  {
   "cell_type": "code",
   "execution_count": 17,
   "metadata": {},
   "outputs": [],
   "source": [
    "##splitting dataset into train and test split\n",
    "training_size=int(len(df1)*0.9)\n",
    "test_size=len(df1)-training_size\n",
    "train_data,test_data=df1[0:training_size,:],df1[training_size:len(df1),:1]"
   ]
  },
  {
   "cell_type": "code",
   "execution_count": 18,
   "metadata": {},
   "outputs": [
    {
     "data": {
      "text/plain": [
       "(2400, 267)"
      ]
     },
     "execution_count": 18,
     "metadata": {},
     "output_type": "execute_result"
    }
   ],
   "source": [
    "training_size,test_size"
   ]
  },
  {
   "cell_type": "code",
   "execution_count": 19,
   "metadata": {},
   "outputs": [
    {
     "data": {
      "text/plain": [
       "array([[0.06387819],\n",
       "       [0.06812123],\n",
       "       [0.06848332],\n",
       "       ...,\n",
       "       [0.50239079],\n",
       "       [0.43203196],\n",
       "       [0.41064478]])"
      ]
     },
     "execution_count": 19,
     "metadata": {},
     "output_type": "execute_result"
    }
   ],
   "source": [
    "train_data"
   ]
  },
  {
   "cell_type": "code",
   "execution_count": 20,
   "metadata": {},
   "outputs": [
    {
     "data": {
      "text/plain": [
       "267"
      ]
     },
     "execution_count": 20,
     "metadata": {},
     "output_type": "execute_result"
    }
   ],
   "source": [
    "len(test_data)"
   ]
  },
  {
   "cell_type": "code",
   "execution_count": 21,
   "metadata": {},
   "outputs": [],
   "source": [
    "import numpy\n",
    "# convert an array of values into a dataset matrix\n",
    "def create_dataset(dataset, time_step=1):\n",
    "\tdataX, dataY = [], []\n",
    "\tfor i in range(len(dataset)-time_step-1):\n",
    "\t\ta = dataset[i:(i+time_step), 0]   ###i=0, 0,1,2,3-----99   100 \n",
    "\t\tdataX.append(a)\n",
    "\t\tdataY.append(dataset[i + time_step, 0])\n",
    "\treturn numpy.array(dataX), numpy.array(dataY)"
   ]
  },
  {
   "cell_type": "code",
   "execution_count": 22,
   "metadata": {},
   "outputs": [],
   "source": [
    "# reshape into X=t,t+1,t+2,t+3 and Y=t+4\n",
    "time_step = 50\n",
    "X_train, y_train = create_dataset(train_data, time_step)\n",
    "X_test, ytest = create_dataset(test_data, time_step)"
   ]
  },
  {
   "cell_type": "code",
   "execution_count": 23,
   "metadata": {},
   "outputs": [
    {
     "name": "stdout",
     "output_type": "stream",
     "text": [
      "(2349, 50)\n",
      "(2349,)\n"
     ]
    },
    {
     "data": {
      "text/plain": [
       "(None, None)"
      ]
     },
     "execution_count": 23,
     "metadata": {},
     "output_type": "execute_result"
    }
   ],
   "source": [
    "print(X_train.shape), print(y_train.shape)"
   ]
  },
  {
   "cell_type": "code",
   "execution_count": 24,
   "metadata": {},
   "outputs": [
    {
     "name": "stdout",
     "output_type": "stream",
     "text": [
      "(216, 50)\n",
      "(216,)\n"
     ]
    },
    {
     "data": {
      "text/plain": [
       "(None, None)"
      ]
     },
     "execution_count": 24,
     "metadata": {},
     "output_type": "execute_result"
    }
   ],
   "source": [
    "print(X_test.shape), print(ytest.shape)"
   ]
  },
  {
   "cell_type": "code",
   "execution_count": 25,
   "metadata": {},
   "outputs": [],
   "source": [
    "# reshape input to be [samples, time steps, features] which is required for LSTM\n",
    "X_train =X_train.reshape(X_train.shape[0],X_train.shape[1] , 1)\n",
    "X_test = X_test.reshape(X_test.shape[0],X_test.shape[1] , 1)"
   ]
  },
  {
   "cell_type": "code",
   "execution_count": 26,
   "metadata": {},
   "outputs": [],
   "source": [
    "### Create the Stacked LSTM model\n",
    "from tensorflow.keras.models import Sequential\n",
    "from tensorflow.keras.layers import Dense\n",
    "from tensorflow.keras.layers import LSTM"
   ]
  },
  {
   "cell_type": "code",
   "execution_count": 27,
   "metadata": {},
   "outputs": [],
   "source": [
    "model=Sequential()\n",
    "model.add(LSTM(50,return_sequences=True,input_shape=(50,1)))\n",
    "model.add(LSTM(50,return_sequences=True))\n",
    "model.add(LSTM(50))\n",
    "model.add(Dense(1))\n",
    "model.compile(loss='mean_squared_error',optimizer='adam')\n"
   ]
  },
  {
   "cell_type": "code",
   "execution_count": 28,
   "metadata": {},
   "outputs": [
    {
     "name": "stdout",
     "output_type": "stream",
     "text": [
      "Model: \"sequential\"\n",
      "_________________________________________________________________\n",
      " Layer (type)                Output Shape              Param #   \n",
      "=================================================================\n",
      " lstm (LSTM)                 (None, 50, 50)            10400     \n",
      "                                                                 \n",
      " lstm_1 (LSTM)               (None, 50, 50)            20200     \n",
      "                                                                 \n",
      " lstm_2 (LSTM)               (None, 50)                20200     \n",
      "                                                                 \n",
      " dense (Dense)               (None, 1)                 51        \n",
      "                                                                 \n",
      "=================================================================\n",
      "Total params: 50851 (198.64 KB)\n",
      "Trainable params: 50851 (198.64 KB)\n",
      "Non-trainable params: 0 (0.00 Byte)\n",
      "_________________________________________________________________\n"
     ]
    }
   ],
   "source": [
    "model.summary()"
   ]
  },
  {
   "cell_type": "code",
   "execution_count": 201,
   "metadata": {
    "scrolled": false
   },
   "outputs": [
    {
     "name": "stdout",
     "output_type": "stream",
     "text": [
      "Epoch 1/100\n",
      "37/37 [==============================] - 9s 67ms/step - loss: 0.0121 - val_loss: 0.0014\n",
      "Epoch 2/100\n",
      "37/37 [==============================] - 2s 44ms/step - loss: 6.0593e-04 - val_loss: 0.0037\n",
      "Epoch 3/100\n",
      "37/37 [==============================] - 2s 44ms/step - loss: 4.9113e-04 - val_loss: 0.0038\n",
      "Epoch 4/100\n",
      "37/37 [==============================] - 2s 44ms/step - loss: 4.9839e-04 - val_loss: 0.0025\n",
      "Epoch 5/100\n",
      "37/37 [==============================] - 2s 45ms/step - loss: 5.0305e-04 - val_loss: 0.0035\n",
      "Epoch 6/100\n",
      "37/37 [==============================] - 2s 44ms/step - loss: 4.7195e-04 - val_loss: 0.0023\n",
      "Epoch 7/100\n",
      "37/37 [==============================] - 2s 44ms/step - loss: 4.6420e-04 - val_loss: 0.0037\n",
      "Epoch 8/100\n",
      "37/37 [==============================] - 2s 46ms/step - loss: 5.0004e-04 - val_loss: 0.0030\n",
      "Epoch 9/100\n",
      "37/37 [==============================] - 2s 47ms/step - loss: 4.7581e-04 - val_loss: 0.0019\n",
      "Epoch 10/100\n",
      "37/37 [==============================] - 2s 48ms/step - loss: 4.2237e-04 - val_loss: 0.0029\n",
      "Epoch 11/100\n",
      "37/37 [==============================] - 2s 45ms/step - loss: 4.2523e-04 - val_loss: 0.0019\n",
      "Epoch 12/100\n",
      "37/37 [==============================] - 2s 44ms/step - loss: 3.9803e-04 - val_loss: 7.6741e-04\n",
      "Epoch 13/100\n",
      "37/37 [==============================] - 2s 45ms/step - loss: 4.8992e-04 - val_loss: 0.0021\n",
      "Epoch 14/100\n",
      "37/37 [==============================] - 2s 45ms/step - loss: 3.7736e-04 - val_loss: 0.0017\n",
      "Epoch 15/100\n",
      "37/37 [==============================] - 2s 47ms/step - loss: 3.6394e-04 - val_loss: 0.0012\n",
      "Epoch 16/100\n",
      "37/37 [==============================] - 2s 46ms/step - loss: 3.6218e-04 - val_loss: 7.9067e-04\n",
      "Epoch 17/100\n",
      "37/37 [==============================] - 2s 44ms/step - loss: 3.5336e-04 - val_loss: 0.0017\n",
      "Epoch 18/100\n",
      "37/37 [==============================] - 2s 48ms/step - loss: 3.3022e-04 - val_loss: 0.0017\n",
      "Epoch 19/100\n",
      "37/37 [==============================] - 2s 57ms/step - loss: 3.2701e-04 - val_loss: 0.0012\n",
      "Epoch 20/100\n",
      "37/37 [==============================] - 2s 46ms/step - loss: 3.4401e-04 - val_loss: 0.0014\n",
      "Epoch 21/100\n",
      "37/37 [==============================] - 2s 50ms/step - loss: 3.0033e-04 - val_loss: 8.1281e-04\n",
      "Epoch 22/100\n",
      "37/37 [==============================] - 2s 45ms/step - loss: 3.3136e-04 - val_loss: 0.0022\n",
      "Epoch 23/100\n",
      "37/37 [==============================] - 2s 49ms/step - loss: 2.9904e-04 - val_loss: 7.9347e-04\n",
      "Epoch 24/100\n",
      "37/37 [==============================] - 2s 56ms/step - loss: 3.2575e-04 - val_loss: 9.6818e-04\n",
      "Epoch 25/100\n",
      "37/37 [==============================] - 2s 54ms/step - loss: 2.8628e-04 - val_loss: 0.0014\n",
      "Epoch 26/100\n",
      "37/37 [==============================] - 2s 48ms/step - loss: 3.0255e-04 - val_loss: 0.0013\n",
      "Epoch 27/100\n",
      "37/37 [==============================] - 2s 46ms/step - loss: 2.9956e-04 - val_loss: 9.6830e-04\n",
      "Epoch 28/100\n",
      "37/37 [==============================] - 2s 46ms/step - loss: 2.5891e-04 - val_loss: 0.0011\n",
      "Epoch 29/100\n",
      "37/37 [==============================] - 2s 46ms/step - loss: 2.9392e-04 - val_loss: 0.0016\n",
      "Epoch 30/100\n",
      "37/37 [==============================] - 2s 50ms/step - loss: 2.6205e-04 - val_loss: 0.0012\n",
      "Epoch 31/100\n",
      "37/37 [==============================] - 2s 52ms/step - loss: 2.5546e-04 - val_loss: 0.0010\n",
      "Epoch 32/100\n",
      "37/37 [==============================] - 2s 46ms/step - loss: 2.5851e-04 - val_loss: 0.0014\n",
      "Epoch 33/100\n",
      "37/37 [==============================] - 2s 52ms/step - loss: 2.3721e-04 - val_loss: 0.0014\n",
      "Epoch 34/100\n",
      "37/37 [==============================] - 2s 49ms/step - loss: 2.3427e-04 - val_loss: 0.0011\n",
      "Epoch 35/100\n",
      "37/37 [==============================] - 2s 52ms/step - loss: 2.4876e-04 - val_loss: 0.0019\n",
      "Epoch 36/100\n",
      "37/37 [==============================] - 2s 51ms/step - loss: 2.4561e-04 - val_loss: 7.5140e-04\n",
      "Epoch 37/100\n",
      "37/37 [==============================] - 2s 52ms/step - loss: 2.1739e-04 - val_loss: 8.5623e-04\n",
      "Epoch 38/100\n",
      "37/37 [==============================] - 2s 45ms/step - loss: 2.1228e-04 - val_loss: 7.3944e-04\n",
      "Epoch 39/100\n",
      "37/37 [==============================] - 2s 46ms/step - loss: 2.2554e-04 - val_loss: 7.6355e-04\n",
      "Epoch 40/100\n",
      "37/37 [==============================] - 2s 46ms/step - loss: 2.1167e-04 - val_loss: 0.0011\n",
      "Epoch 41/100\n",
      "37/37 [==============================] - 2s 44ms/step - loss: 2.0047e-04 - val_loss: 0.0016\n",
      "Epoch 42/100\n",
      "37/37 [==============================] - 2s 44ms/step - loss: 2.0412e-04 - val_loss: 7.8917e-04\n",
      "Epoch 43/100\n",
      "37/37 [==============================] - 2s 48ms/step - loss: 1.9782e-04 - val_loss: 9.1658e-04\n",
      "Epoch 44/100\n",
      "37/37 [==============================] - 2s 48ms/step - loss: 1.9946e-04 - val_loss: 7.7111e-04\n",
      "Epoch 45/100\n",
      "37/37 [==============================] - 2s 47ms/step - loss: 2.0727e-04 - val_loss: 6.2362e-04\n",
      "Epoch 46/100\n",
      "37/37 [==============================] - 2s 48ms/step - loss: 1.9367e-04 - val_loss: 6.2190e-04\n",
      "Epoch 47/100\n",
      "37/37 [==============================] - 2s 48ms/step - loss: 2.3242e-04 - val_loss: 5.5569e-04\n",
      "Epoch 48/100\n",
      "37/37 [==============================] - 2s 46ms/step - loss: 1.9714e-04 - val_loss: 0.0012\n",
      "Epoch 49/100\n",
      "37/37 [==============================] - 2s 47ms/step - loss: 1.7304e-04 - val_loss: 6.0931e-04\n",
      "Epoch 50/100\n",
      "37/37 [==============================] - 2s 47ms/step - loss: 1.7157e-04 - val_loss: 5.0914e-04\n",
      "Epoch 51/100\n",
      "37/37 [==============================] - 2s 47ms/step - loss: 1.6896e-04 - val_loss: 5.3206e-04\n",
      "Epoch 52/100\n",
      "37/37 [==============================] - 2s 46ms/step - loss: 1.6559e-04 - val_loss: 8.1960e-04\n",
      "Epoch 53/100\n",
      "37/37 [==============================] - 2s 50ms/step - loss: 1.6296e-04 - val_loss: 5.1966e-04\n",
      "Epoch 54/100\n",
      "37/37 [==============================] - 2s 56ms/step - loss: 1.8925e-04 - val_loss: 6.7118e-04\n",
      "Epoch 55/100\n",
      "37/37 [==============================] - 2s 54ms/step - loss: 1.5628e-04 - val_loss: 4.6552e-04\n",
      "Epoch 56/100\n",
      "37/37 [==============================] - 2s 52ms/step - loss: 1.5690e-04 - val_loss: 6.7314e-04\n",
      "Epoch 57/100\n",
      "37/37 [==============================] - 2s 62ms/step - loss: 1.4311e-04 - val_loss: 4.4432e-04\n",
      "Epoch 58/100\n",
      "37/37 [==============================] - 2s 56ms/step - loss: 1.4878e-04 - val_loss: 5.3141e-04\n",
      "Epoch 59/100\n",
      "37/37 [==============================] - 3s 68ms/step - loss: 1.4241e-04 - val_loss: 6.8886e-04\n",
      "Epoch 60/100\n",
      "37/37 [==============================] - 2s 64ms/step - loss: 1.6027e-04 - val_loss: 0.0012\n",
      "Epoch 61/100\n",
      "37/37 [==============================] - 2s 67ms/step - loss: 1.3583e-04 - val_loss: 6.5478e-04\n",
      "Epoch 62/100\n",
      "37/37 [==============================] - 2s 65ms/step - loss: 1.5428e-04 - val_loss: 5.8729e-04\n",
      "Epoch 63/100\n",
      "37/37 [==============================] - 2s 63ms/step - loss: 1.2415e-04 - val_loss: 6.0039e-04\n",
      "Epoch 64/100\n",
      "37/37 [==============================] - 2s 64ms/step - loss: 1.3394e-04 - val_loss: 0.0011\n",
      "Epoch 65/100\n",
      "37/37 [==============================] - 2s 62ms/step - loss: 1.2542e-04 - val_loss: 9.6744e-04\n",
      "Epoch 66/100\n",
      "37/37 [==============================] - 2s 66ms/step - loss: 1.2454e-04 - val_loss: 5.8393e-04\n",
      "Epoch 67/100\n",
      "37/37 [==============================] - 3s 75ms/step - loss: 1.1999e-04 - val_loss: 4.5897e-04\n",
      "Epoch 68/100\n",
      "37/37 [==============================] - 3s 74ms/step - loss: 1.1312e-04 - val_loss: 6.2850e-04\n",
      "Epoch 69/100\n",
      "37/37 [==============================] - 3s 75ms/step - loss: 1.3074e-04 - val_loss: 4.8591e-04\n",
      "Epoch 70/100\n",
      "37/37 [==============================] - 2s 66ms/step - loss: 1.0660e-04 - val_loss: 4.9528e-04\n",
      "Epoch 71/100\n",
      "37/37 [==============================] - 2s 64ms/step - loss: 1.1633e-04 - val_loss: 3.9269e-04\n",
      "Epoch 72/100\n",
      "37/37 [==============================] - 2s 56ms/step - loss: 1.0561e-04 - val_loss: 3.2649e-04\n",
      "Epoch 73/100\n",
      "37/37 [==============================] - 2s 54ms/step - loss: 1.2420e-04 - val_loss: 3.1220e-04\n",
      "Epoch 74/100\n",
      "37/37 [==============================] - 2s 56ms/step - loss: 1.1326e-04 - val_loss: 5.5305e-04\n",
      "Epoch 75/100\n",
      "37/37 [==============================] - 2s 60ms/step - loss: 9.8315e-05 - val_loss: 3.0506e-04\n",
      "Epoch 76/100\n",
      "37/37 [==============================] - 2s 60ms/step - loss: 1.2123e-04 - val_loss: 3.6217e-04\n",
      "Epoch 77/100\n",
      "37/37 [==============================] - 2s 59ms/step - loss: 1.0008e-04 - val_loss: 3.1042e-04\n",
      "Epoch 78/100\n",
      "37/37 [==============================] - 2s 56ms/step - loss: 1.0870e-04 - val_loss: 3.4823e-04\n",
      "Epoch 79/100\n",
      "37/37 [==============================] - 2s 54ms/step - loss: 1.0101e-04 - val_loss: 7.6683e-04\n",
      "Epoch 80/100\n",
      "37/37 [==============================] - 2s 65ms/step - loss: 1.6556e-04 - val_loss: 3.5285e-04\n",
      "Epoch 81/100\n",
      "37/37 [==============================] - 3s 69ms/step - loss: 1.2934e-04 - val_loss: 3.8213e-04\n",
      "Epoch 82/100\n",
      "37/37 [==============================] - 3s 75ms/step - loss: 8.9959e-05 - val_loss: 3.0940e-04\n",
      "Epoch 83/100\n",
      "37/37 [==============================] - 2s 67ms/step - loss: 9.1515e-05 - val_loss: 2.5431e-04\n",
      "Epoch 84/100\n",
      "37/37 [==============================] - 2s 56ms/step - loss: 9.5935e-05 - val_loss: 7.5565e-04\n",
      "Epoch 85/100\n",
      "37/37 [==============================] - 2s 58ms/step - loss: 9.9440e-05 - val_loss: 9.0204e-04\n",
      "Epoch 86/100\n",
      "37/37 [==============================] - 2s 62ms/step - loss: 9.8665e-05 - val_loss: 2.5182e-04\n",
      "Epoch 87/100\n",
      "37/37 [==============================] - 3s 65ms/step - loss: 9.1759e-05 - val_loss: 4.2179e-04\n",
      "Epoch 88/100\n",
      "37/37 [==============================] - 2s 63ms/step - loss: 8.8570e-05 - val_loss: 2.6549e-04\n",
      "Epoch 89/100\n",
      "37/37 [==============================] - 2s 66ms/step - loss: 8.0464e-05 - val_loss: 2.7065e-04\n",
      "Epoch 90/100\n",
      "37/37 [==============================] - 3s 73ms/step - loss: 8.0846e-05 - val_loss: 4.1957e-04\n",
      "Epoch 91/100\n",
      "37/37 [==============================] - 3s 74ms/step - loss: 9.9033e-05 - val_loss: 3.7472e-04\n",
      "Epoch 92/100\n",
      "37/37 [==============================] - 3s 77ms/step - loss: 7.8372e-05 - val_loss: 3.5398e-04\n",
      "Epoch 93/100\n",
      "37/37 [==============================] - 2s 65ms/step - loss: 8.3276e-05 - val_loss: 4.8728e-04\n",
      "Epoch 94/100\n",
      "37/37 [==============================] - 2s 61ms/step - loss: 7.9129e-05 - val_loss: 2.2360e-04\n",
      "Epoch 95/100\n",
      "37/37 [==============================] - 2s 63ms/step - loss: 9.2120e-05 - val_loss: 2.3397e-04\n",
      "Epoch 96/100\n",
      "37/37 [==============================] - 2s 65ms/step - loss: 8.2338e-05 - val_loss: 2.3359e-04\n",
      "Epoch 97/100\n",
      "37/37 [==============================] - 2s 66ms/step - loss: 7.8871e-05 - val_loss: 8.2264e-04\n",
      "Epoch 98/100\n",
      "37/37 [==============================] - 2s 64ms/step - loss: 1.0935e-04 - val_loss: 4.9134e-04\n",
      "Epoch 99/100\n",
      "37/37 [==============================] - 2s 62ms/step - loss: 7.3485e-05 - val_loss: 2.2620e-04\n",
      "Epoch 100/100\n",
      "37/37 [==============================] - 2s 62ms/step - loss: 8.4831e-05 - val_loss: 2.4067e-04\n"
     ]
    },
    {
     "data": {
      "text/plain": [
       "<keras.src.callbacks.History at 0x203999b0d90>"
      ]
     },
     "execution_count": 201,
     "metadata": {},
     "output_type": "execute_result"
    }
   ],
   "source": [
    "model.fit(X_train,y_train,validation_data=(X_test,ytest),epochs=100,batch_size=64,verbose=1)"
   ]
  },
  {
   "cell_type": "code",
   "execution_count": 202,
   "metadata": {},
   "outputs": [],
   "source": [
    "import tensorflow as tf"
   ]
  },
  {
   "cell_type": "code",
   "execution_count": 204,
   "metadata": {},
   "outputs": [
    {
     "name": "stdout",
     "output_type": "stream",
     "text": [
      "INFO:tensorflow:Assets written to: model_LSTM.m1\\assets\n"
     ]
    },
    {
     "name": "stderr",
     "output_type": "stream",
     "text": [
      "INFO:tensorflow:Assets written to: model_LSTM.m1\\assets\n"
     ]
    }
   ],
   "source": [
    "model.save('model_LSTM.m1')"
   ]
  },
  {
   "cell_type": "code",
   "execution_count": 97,
   "metadata": {},
   "outputs": [
    {
     "data": {
      "text/plain": [
       "'2.13.0'"
      ]
     },
     "execution_count": 97,
     "metadata": {},
     "output_type": "execute_result"
    }
   ],
   "source": [
    "tf.__version__"
   ]
  },
  {
   "cell_type": "code",
   "execution_count": 98,
   "metadata": {},
   "outputs": [
    {
     "name": "stdout",
     "output_type": "stream",
     "text": [
      "51/51 [==============================] - 2s 19ms/step\n",
      "27/27 [==============================] - 1s 20ms/step\n"
     ]
    }
   ],
   "source": [
    "### Lets Do the prediction and check performance metrics\n",
    "train_predict=model.predict(X_train)\n",
    "test_predict=model.predict(X_test)"
   ]
  },
  {
   "cell_type": "code",
   "execution_count": 99,
   "metadata": {},
   "outputs": [],
   "source": [
    "##Transformback to original form\n",
    "train_predict=scaler.inverse_transform(train_predict)\n",
    "test_predict=scaler.inverse_transform(test_predict)"
   ]
  },
  {
   "cell_type": "code",
   "execution_count": 126,
   "metadata": {
    "scrolled": false
   },
   "outputs": [
    {
     "data": {
      "text/plain": [
       "array([[10123.961 ],\n",
       "       [10070.184 ],\n",
       "       [10095.114 ],\n",
       "       [10134.804 ],\n",
       "       [10215.364 ],\n",
       "       [10271.783 ],\n",
       "       [10258.002 ],\n",
       "       [10277.738 ],\n",
       "       [10263.311 ],\n",
       "       [10341.416 ],\n",
       "       [10352.193 ],\n",
       "       [10366.548 ],\n",
       "       [10369.336 ],\n",
       "       [10287.547 ],\n",
       "       [10230.754 ],\n",
       "       [10236.013 ],\n",
       "       [10257.806 ],\n",
       "       [10184.834 ],\n",
       "       [10130.705 ],\n",
       "       [10071.438 ],\n",
       "       [10139.748 ],\n",
       "       [10220.08  ],\n",
       "       [10238.948 ],\n",
       "       [10249.511 ],\n",
       "       [10258.362 ],\n",
       "       [10262.626 ],\n",
       "       [10295.411 ],\n",
       "       [10312.781 ],\n",
       "       [10290.877 ],\n",
       "       [10278.114 ],\n",
       "       [10173.207 ],\n",
       "       [10067.09  ],\n",
       "       [10063.754 ],\n",
       "       [10073.824 ],\n",
       "       [10017.516 ],\n",
       "       [10096.256 ],\n",
       "       [10202.211 ],\n",
       "       [10258.315 ],\n",
       "       [10186.33  ],\n",
       "       [10116.882 ],\n",
       "       [10156.584 ],\n",
       "       [10244.651 ],\n",
       "       [10307.888 ],\n",
       "       [10370.971 ],\n",
       "       [10363.12  ],\n",
       "       [10422.154 ],\n",
       "       [10408.581 ],\n",
       "       [10389.089 ],\n",
       "       [10433.147 ],\n",
       "       [10379.74  ],\n",
       "       [10364.145 ],\n",
       "       [10420.998 ],\n",
       "       [10481.922 ],\n",
       "       [10539.8955],\n",
       "       [10554.18  ],\n",
       "       [10543.844 ],\n",
       "       [10554.692 ],\n",
       "       [10584.193 ],\n",
       "       [10639.761 ],\n",
       "       [10616.504 ],\n",
       "       [10676.201 ],\n",
       "       [10717.749 ],\n",
       "       [10782.571 ],\n",
       "       [10850.083 ],\n",
       "       [10951.699 ],\n",
       "       [10966.981 ],\n",
       "       [10945.886 ],\n",
       "       [10994.426 ],\n",
       "       [10946.49  ],\n",
       "       [10919.001 ],\n",
       "       [10917.079 ],\n",
       "       [10712.841 ],\n",
       "       [10599.52  ],\n",
       "       [10466.859 ],\n",
       "       [10436.101 ],\n",
       "       [10526.317 ],\n",
       "       [10442.742 ],\n",
       "       [10470.242 ],\n",
       "       [10447.283 ],\n",
       "       [10465.106 ],\n",
       "       [10390.661 ],\n",
       "       [10306.049 ],\n",
       "       [10280.674 ],\n",
       "       [10316.957 ],\n",
       "       [10317.88  ],\n",
       "       [10399.255 ],\n",
       "       [10491.723 ],\n",
       "       [10477.572 ],\n",
       "       [10409.893 ],\n",
       "       [10369.401 ],\n",
       "       [10292.891 ],\n",
       "       [10195.894 ],\n",
       "       [10110.547 ],\n",
       "       [10177.637 ],\n",
       "       [10356.255 ],\n",
       "       [10375.93  ],\n",
       "       [10306.633 ],\n",
       "       [10148.799 ],\n",
       "       [10035.787 ],\n",
       "       [10055.908 ],\n",
       "       [10105.212 ],\n",
       "       [10082.696 ],\n",
       "       [ 9973.248 ],\n",
       "       [10049.257 ],\n",
       "       [10128.13  ],\n",
       "       [10078.36  ],\n",
       "       [10126.408 ],\n",
       "       [10172.2705],\n",
       "       [10083.077 ],\n",
       "       [10207.385 ],\n",
       "       [10262.652 ],\n",
       "       [10295.893 ],\n",
       "       [10315.827 ],\n",
       "       [10329.396 ],\n",
       "       [10365.667 ],\n",
       "       [10393.774 ],\n",
       "       [10436.791 ],\n",
       "       [10462.654 ],\n",
       "       [10447.126 ],\n",
       "       [10473.587 ],\n",
       "       [10483.966 ],\n",
       "       [10501.178 ],\n",
       "       [10529.322 ],\n",
       "       [10499.055 ],\n",
       "       [10526.764 ],\n",
       "       [10598.53  ],\n",
       "       [10648.814 ],\n",
       "       [10632.101 ],\n",
       "       [10590.013 ],\n",
       "       [10534.526 ],\n",
       "       [10609.422 ],\n",
       "       [10637.835 ],\n",
       "       [10653.12  ],\n",
       "       [10631.966 ],\n",
       "       [10697.962 ],\n",
       "       [10715.548 ],\n",
       "       [10706.128 ],\n",
       "       [10653.101 ],\n",
       "       [10597.11  ],\n",
       "       [10524.404 ],\n",
       "       [10453.494 ],\n",
       "       [10465.81  ],\n",
       "       [10391.509 ],\n",
       "       [10438.382 ],\n",
       "       [10553.486 ],\n",
       "       [10552.652 ],\n",
       "       [10628.316 ],\n",
       "       [10609.598 ],\n",
       "       [10537.3125],\n",
       "       [10496.342 ],\n",
       "       [10575.01  ],\n",
       "       [10669.823 ],\n",
       "       [10680.915 ],\n",
       "       [10686.303 ],\n",
       "       [10732.635 ],\n",
       "       [10755.153 ],\n",
       "       [10716.436 ],\n",
       "       [10716.199 ],\n",
       "       [10710.547 ],\n",
       "       [10639.334 ],\n",
       "       [10677.974 ],\n",
       "       [10672.182 ],\n",
       "       [10730.97  ],\n",
       "       [10694.456 ],\n",
       "       [10681.848 ],\n",
       "       [10603.242 ],\n",
       "       [10520.224 ],\n",
       "       [10615.827 ],\n",
       "       [10601.202 ],\n",
       "       [10616.669 ],\n",
       "       [10676.591 ],\n",
       "       [10668.206 ],\n",
       "       [10674.391 ],\n",
       "       [10741.519 ],\n",
       "       [10831.7   ],\n",
       "       [10842.74  ],\n",
       "       [10894.678 ],\n",
       "       [10903.193 ],\n",
       "       [10834.854 ],\n",
       "       [10883.985 ],\n",
       "       [10885.796 ],\n",
       "       [10864.468 ],\n",
       "       [10906.903 ],\n",
       "       [10980.666 ],\n",
       "       [11029.669 ],\n",
       "       [11026.556 ],\n",
       "       [11048.364 ],\n",
       "       [11144.728 ],\n",
       "       [11194.205 ],\n",
       "       [11222.338 ],\n",
       "       [11215.267 ],\n",
       "       [11131.132 ],\n",
       "       [11219.679 ],\n",
       "       [11271.231 ],\n",
       "       [11339.941 ],\n",
       "       [11311.965 ],\n",
       "       [11239.703 ],\n",
       "       [11300.822 ],\n",
       "       [11280.11  ],\n",
       "       [11341.968 ],\n",
       "       [11421.306 ],\n",
       "       [11440.612 ],\n",
       "       [11443.348 ],\n",
       "       [11421.428 ],\n",
       "       [11532.497 ],\n",
       "       [11591.717 ],\n",
       "       [11550.265 ],\n",
       "       [11528.972 ],\n",
       "       [11539.064 ],\n",
       "       [11465.529 ],\n",
       "       [11406.855 ],\n",
       "       [11374.15  ],\n",
       "       [11427.438 ],\n",
       "       [11479.711 ],\n",
       "       [11349.727 ],\n",
       "       [11195.411 ],\n",
       "       [11256.27  ],\n",
       "       [11401.922 ],\n",
       "       [11295.848 ],\n",
       "       [11174.56  ],\n",
       "       [11129.289 ],\n",
       "       [11059.418 ],\n",
       "       [10905.431 ],\n",
       "       [10970.87  ],\n",
       "       [10986.716 ],\n",
       "       [10911.96  ],\n",
       "       [10851.557 ],\n",
       "       [10909.669 ],\n",
       "       [10799.883 ],\n",
       "       [10553.064 ],\n",
       "       [10282.995 ],\n",
       "       [10286.314 ],\n",
       "       [10285.39  ],\n",
       "       [10410.497 ],\n",
       "       [10249.257 ],\n",
       "       [10373.838 ],\n",
       "       [10452.672 ],\n",
       "       [10502.662 ],\n",
       "       [10391.581 ],\n",
       "       [10233.594 ],\n",
       "       [10166.443 ],\n",
       "       [10098.572 ],\n",
       "       [10158.704 ],\n",
       "       [10107.433 ],\n",
       "       [10142.639 ],\n",
       "       [10308.403 ],\n",
       "       [10338.041 ],\n",
       "       [10451.64  ],\n",
       "       [10450.028 ],\n",
       "       [10434.641 ],\n",
       "       [10487.85  ],\n",
       "       [10496.776 ],\n",
       "       [10413.034 ],\n",
       "       [10478.041 ],\n",
       "       [10506.231 ],\n",
       "       [10538.765 ],\n",
       "       [10596.921 ],\n",
       "       [10671.3125],\n",
       "       [10592.982 ],\n",
       "       [10519.23  ],\n",
       "       [10456.422 ],\n",
       "       [10537.742 ],\n",
       "       [10612.731 ],\n",
       "       [10651.483 ],\n",
       "       [10751.555 ],\n",
       "       [10779.775 ],\n",
       "       [10775.354 ],\n",
       "       [10759.631 ],\n",
       "       [10689.335 ],\n",
       "       [10532.643 ],\n",
       "       [10590.364 ],\n",
       "       [10460.388 ],\n",
       "       [10474.524 ],\n",
       "       [10648.966 ],\n",
       "       [10724.896 ],\n",
       "       [10721.192 ],\n",
       "       [10770.962 ],\n",
       "       [10795.624 ],\n",
       "       [10841.095 ],\n",
       "       [10836.827 ],\n",
       "       [10672.271 ],\n",
       "       [10570.9795],\n",
       "       [10633.868 ],\n",
       "       [10706.166 ],\n",
       "       [10778.441 ],\n",
       "       [10783.134 ],\n",
       "       [10713.295 ],\n",
       "       [10597.752 ],\n",
       "       [10628.49  ],\n",
       "       [10688.233 ],\n",
       "       [10720.725 ],\n",
       "       [10760.621 ],\n",
       "       [10734.97  ],\n",
       "       [10775.737 ],\n",
       "       [10790.75  ],\n",
       "       [10801.028 ],\n",
       "       [10804.156 ],\n",
       "       [10850.228 ],\n",
       "       [10829.387 ],\n",
       "       [10746.424 ],\n",
       "       [10750.569 ],\n",
       "       [10708.541 ],\n",
       "       [10603.139 ],\n",
       "       [10580.334 ],\n",
       "       [10589.308 ],\n",
       "       [10738.258 ],\n",
       "       [10815.237 ],\n",
       "       [10819.311 ],\n",
       "       [10822.562 ],\n",
       "       [10924.895 ],\n",
       "       [10951.593 ],\n",
       "       [10842.763 ],\n",
       "       [10778.018 ],\n",
       "       [10739.528 ],\n",
       "       [10676.312 ],\n",
       "       [10655.124 ],\n",
       "       [10592.206 ],\n",
       "       [10550.784 ],\n",
       "       [10655.221 ],\n",
       "       [10722.821 ],\n",
       "       [10717.329 ],\n",
       "       [10772.41  ],\n",
       "       [10744.291 ],\n",
       "       [10705.512 ],\n",
       "       [10690.996 ],\n",
       "       [10753.846 ],\n",
       "       [10872.434 ],\n",
       "       [10942.664 ],\n",
       "       [10945.275 ],\n",
       "       [10919.341 ],\n",
       "       [11025.91  ],\n",
       "       [11162.594 ],\n",
       "       [11210.358 ],\n",
       "       [11206.202 ],\n",
       "       [11273.328 ],\n",
       "       [11320.892 ],\n",
       "       [11384.592 ],\n",
       "       [11386.082 ],\n",
       "       [11332.009 ],\n",
       "       [11245.369 ],\n",
       "       [11352.508 ],\n",
       "       [11350.543 ],\n",
       "       [11441.004 ],\n",
       "       [11513.952 ],\n",
       "       [11472.98  ],\n",
       "       [11514.122 ],\n",
       "       [11474.804 ],\n",
       "       [11522.991 ],\n",
       "       [11463.844 ],\n",
       "       [11463.276 ],\n",
       "       [11511.48  ],\n",
       "       [11557.7705],\n",
       "       [11638.247 ],\n",
       "       [11613.872 ],\n",
       "       [11469.739 ],\n",
       "       [11442.062 ],\n",
       "       [11584.39  ],\n",
       "       [11535.905 ],\n",
       "       [11606.297 ],\n",
       "       [11614.049 ],\n",
       "       [11586.319 ],\n",
       "       [11572.15  ],\n",
       "       [11479.721 ],\n",
       "       [11387.764 ],\n",
       "       [11272.0625],\n",
       "       [11219.41  ],\n",
       "       [11204.533 ],\n",
       "       [11093.665 ],\n",
       "       [11134.014 ],\n",
       "       [11091.364 ],\n",
       "       [11154.213 ],\n",
       "       [11285.704 ],\n",
       "       [11635.634 ],\n",
       "       [11569.319 ],\n",
       "       [11536.343 ],\n",
       "       [11479.466 ],\n",
       "       [11642.274 ],\n",
       "       [11750.111 ],\n",
       "       [11758.859 ],\n",
       "       [11701.908 ],\n",
       "       [11776.01  ],\n",
       "       [11781.655 ],\n",
       "       [11919.333 ],\n",
       "       [11882.702 ],\n",
       "       [11718.383 ],\n",
       "       [11733.287 ],\n",
       "       [11800.124 ],\n",
       "       [11840.9   ],\n",
       "       [11784.684 ],\n",
       "       [11777.629 ],\n",
       "       [11704.18  ],\n",
       "       [11567.6045],\n",
       "       [11575.913 ],\n",
       "       [11616.55  ],\n",
       "       [11594.115 ],\n",
       "       [11661.552 ],\n",
       "       [11708.196 ],\n",
       "       [11695.481 ],\n",
       "       [11641.806 ],\n",
       "       [11701.621 ],\n",
       "       [11753.716 ],\n",
       "       [11760.173 ],\n",
       "       [11782.714 ],\n",
       "       [11674.478 ],\n",
       "       [11451.745 ],\n",
       "       [11442.299 ],\n",
       "       [11421.03  ],\n",
       "       [11488.557 ],\n",
       "       [11467.86  ],\n",
       "       [11479.119 ],\n",
       "       [11537.208 ],\n",
       "       [11557.489 ],\n",
       "       [11472.984 ],\n",
       "       [11309.076 ],\n",
       "       [11237.367 ],\n",
       "       [11236.399 ],\n",
       "       [11194.724 ],\n",
       "       [11170.159 ],\n",
       "       [11194.033 ],\n",
       "       [11115.701 ],\n",
       "       [11008.121 ],\n",
       "       [11023.465 ],\n",
       "       [10920.799 ],\n",
       "       [10911.876 ],\n",
       "       [10807.85  ],\n",
       "       [10857.227 ],\n",
       "       [10799.469 ],\n",
       "       [10923.153 ],\n",
       "       [11013.267 ],\n",
       "       [10857.66  ],\n",
       "       [10898.509 ],\n",
       "       [10942.845 ],\n",
       "       [10951.985 ],\n",
       "       [10919.487 ],\n",
       "       [10833.527 ],\n",
       "       [10678.139 ],\n",
       "       [10735.807 ],\n",
       "       [10957.713 ],\n",
       "       [11030.072 ],\n",
       "       [10960.392 ],\n",
       "       [10853.428 ],\n",
       "       [10903.991 ],\n",
       "       [10744.727 ],\n",
       "       [10832.062 ],\n",
       "       [10919.132 ],\n",
       "       [10949.705 ],\n",
       "       [10898.327 ],\n",
       "       [10958.874 ],\n",
       "       [10917.403 ],\n",
       "       [10748.649 ],\n",
       "       [10743.048 ],\n",
       "       [10654.644 ],\n",
       "       [11104.717 ],\n",
       "       [11463.795 ],\n",
       "       [11451.366 ],\n",
       "       [11276.143 ],\n",
       "       [11361.169 ],\n",
       "       [11361.53  ],\n",
       "       [11333.707 ],\n",
       "       [11247.926 ],\n",
       "       [11211.142 ],\n",
       "       [11107.177 ],\n",
       "       [11058.705 ],\n",
       "       [11219.145 ],\n",
       "       [11179.847 ],\n",
       "       [11203.641 ],\n",
       "       [11234.428 ],\n",
       "       [11301.564 ],\n",
       "       [11333.073 ],\n",
       "       [11427.734 ],\n",
       "       [11500.072 ],\n",
       "       [11440.592 ],\n",
       "       [11441.589 ],\n",
       "       [11438.738 ],\n",
       "       [11447.017 ],\n",
       "       [11623.334 ],\n",
       "       [11696.956 ],\n",
       "       [11715.351 ],\n",
       "       [11723.433 ],\n",
       "       [11769.844 ],\n",
       "       [11760.888 ],\n",
       "       [11802.073 ],\n",
       "       [11852.101 ],\n",
       "       [11771.026 ],\n",
       "       [11766.134 ],\n",
       "       [11717.285 ],\n",
       "       [11741.602 ],\n",
       "       [11769.147 ],\n",
       "       [11757.881 ],\n",
       "       [11797.185 ],\n",
       "       [11848.802 ],\n",
       "       [11821.377 ],\n",
       "       [11869.588 ],\n",
       "       [11930.374 ],\n",
       "       [11974.217 ],\n",
       "       [11894.511 ],\n",
       "       [11879.945 ],\n",
       "       [11847.228 ],\n",
       "       [11891.496 ],\n",
       "       [11880.685 ],\n",
       "       [11793.6875],\n",
       "       [11800.239 ],\n",
       "       [11741.376 ],\n",
       "       [11777.889 ],\n",
       "       [11836.494 ],\n",
       "       [11929.962 ],\n",
       "       [11900.826 ],\n",
       "       [11978.063 ],\n",
       "       [12036.32  ],\n",
       "       [12067.488 ],\n",
       "       [12078.8125],\n",
       "       [12075.675 ],\n",
       "       [12041.78  ],\n",
       "       [11973.251 ],\n",
       "       [12078.807 ],\n",
       "       [12106.643 ],\n",
       "       [12024.889 ],\n",
       "       [12027.9   ],\n",
       "       [12121.066 ],\n",
       "       [12080.174 ],\n",
       "       [11868.009 ],\n",
       "       [11906.683 ],\n",
       "       [11908.347 ],\n",
       "       [12061.523 ],\n",
       "       [12102.462 ],\n",
       "       [12144.177 ],\n",
       "       [12167.677 ],\n",
       "       [12150.283 ],\n",
       "       [12161.258 ],\n",
       "       [12167.631 ],\n",
       "       [12065.727 ],\n",
       "       [12017.69  ],\n",
       "       [11976.103 ],\n",
       "       [12041.9   ],\n",
       "       [12106.402 ],\n",
       "       [11990.417 ],\n",
       "       [11916.612 ],\n",
       "       [11982.653 ],\n",
       "       [11913.382 ],\n",
       "       [11834.06  ],\n",
       "       [11614.642 ],\n",
       "       [11831.127 ],\n",
       "       [11970.217 ],\n",
       "       [11895.094 ],\n",
       "       [11929.579 ],\n",
       "       [12016.409 ],\n",
       "       [11998.853 ],\n",
       "       [11939.463 ],\n",
       "       [11884.802 ],\n",
       "       [11848.001 ],\n",
       "       [11968.438 ],\n",
       "       [11947.452 ],\n",
       "       [11719.812 ],\n",
       "       [11675.135 ],\n",
       "       [11594.234 ],\n",
       "       [11549.738 ],\n",
       "       [11179.817 ],\n",
       "       [11074.846 ],\n",
       "       [11240.296 ],\n",
       "       [11219.299 ],\n",
       "       [11195.382 ],\n",
       "       [10944.171 ],\n",
       "       [10441.742 ],\n",
       "       [10385.028 ],\n",
       "       [ 9708.578 ],\n",
       "       [ 9863.157 ],\n",
       "       [ 9375.21  ],\n",
       "       [ 9022.115 ],\n",
       "       [ 8591.198 ],\n",
       "       [ 8331.558 ],\n",
       "       [ 8657.53  ],\n",
       "       [ 8014.1   ],\n",
       "       [ 7779.999 ],\n",
       "       [ 8153.6636],\n",
       "       [ 8613.303 ],\n",
       "       [ 8764.425 ],\n",
       "       [ 8451.68  ],\n",
       "       [ 8463.465 ],\n",
       "       [ 8302.434 ],\n",
       "       [ 8096.494 ],\n",
       "       [ 8526.425 ],\n",
       "       [ 8777.996 ],\n",
       "       [ 9051.38  ],\n",
       "       [ 9045.126 ],\n",
       "       [ 8924.006 ],\n",
       "       [ 8921.039 ],\n",
       "       [ 9149.154 ],\n",
       "       [ 9251.562 ],\n",
       "       [ 9044.05  ],\n",
       "       [ 9092.926 ],\n",
       "       [ 9255.435 ],\n",
       "       [ 9193.398 ],\n",
       "       [ 9432.488 ],\n",
       "       [ 9767.815 ],\n",
       "       [ 9417.095 ],\n",
       "       [ 9150.945 ],\n",
       "       [ 9174.196 ],\n",
       "       [ 9180.91  ],\n",
       "       [ 9221.245 ],\n",
       "       [ 9227.786 ],\n",
       "       [ 9187.381 ],\n",
       "       [ 9307.274 ],\n",
       "       [ 9175.421 ],\n",
       "       [ 9091.349 ],\n",
       "       [ 8848.337 ],\n",
       "       [ 8808.956 ],\n",
       "       [ 8982.796 ],\n",
       "       [ 9090.659 ],\n",
       "       [ 9046.479 ],\n",
       "       [ 8994.463 ],\n",
       "       [ 9189.843 ],\n",
       "       [ 9407.312 ],\n",
       "       [ 9517.419 ],\n",
       "       [ 9697.215 ],\n",
       "       [ 9856.978 ],\n",
       "       [ 9942.506 ],\n",
       "       [ 9922.468 ],\n",
       "       [ 9996.384 ],\n",
       "       [10055.391 ],\n",
       "       [ 9978.688 ],\n",
       "       [10012.256 ],\n",
       "       [ 9877.255 ],\n",
       "       [ 9895.271 ],\n",
       "       [ 9803.226 ],\n",
       "       [ 9853.359 ],\n",
       "       [ 9857.641 ],\n",
       "       [10011.545 ],\n",
       "       [10171.065 ],\n",
       "       [10236.38  ],\n",
       "       [10346.938 ],\n",
       "       [10233.043 ],\n",
       "       [10171.369 ],\n",
       "       [10253.661 ],\n",
       "       [10235.633 ],\n",
       "       [10215.947 ],\n",
       "       [10321.382 ],\n",
       "       [10451.938 ],\n",
       "       [10514.174 ],\n",
       "       [10634.225 ],\n",
       "       [10683.148 ],\n",
       "       [10603.248 ],\n",
       "       [10669.455 ],\n",
       "       [10536.284 ],\n",
       "       [10512.817 ],\n",
       "       [10632.716 ],\n",
       "       [10796.922 ],\n",
       "       [10912.756 ],\n",
       "       [11024.615 ],\n",
       "       [11006.032 ],\n",
       "       [11055.855 ],\n",
       "       [11056.354 ],\n",
       "       [11006.413 ],\n",
       "       [11144.211 ],\n",
       "       [11102.559 ],\n",
       "       [10999.948 ],\n",
       "       [10969.366 ],\n",
       "       [10830.459 ],\n",
       "       [10980.62  ],\n",
       "       [11029.852 ],\n",
       "       [11094.992 ],\n",
       "       [11105.869 ],\n",
       "       [11140.372 ],\n",
       "       [11185.629 ],\n",
       "       [11177.283 ],\n",
       "       [11165.729 ],\n",
       "       [11068.032 ],\n",
       "       [11115.311 ],\n",
       "       [11254.152 ],\n",
       "       [11291.65  ],\n",
       "       [11201.107 ],\n",
       "       [11232.615 ],\n",
       "       [11329.864 ],\n",
       "       [11347.858 ],\n",
       "       [11404.08  ],\n",
       "       [11420.355 ],\n",
       "       [11491.582 ],\n",
       "       [11287.791 ],\n",
       "       [11324.512 ],\n",
       "       [11413.561 ],\n",
       "       [11417.695 ],\n",
       "       [11246.369 ],\n",
       "       [11239.61  ],\n",
       "       [11227.997 ],\n",
       "       [11192.571 ],\n",
       "       [11328.179 ],\n",
       "       [11360.556 ],\n",
       "       [11322.705 ],\n",
       "       [11377.194 ],\n",
       "       [11456.964 ],\n",
       "       [11388.885 ],\n",
       "       [11362.461 ],\n",
       "       [11158.83  ],\n",
       "       [10762.645 ],\n",
       "       [10938.158 ],\n",
       "       [11165.198 ],\n",
       "       [11169.66  ],\n",
       "       [11150.957 ],\n",
       "       [11276.455 ],\n",
       "       [11363.317 ],\n",
       "       [11487.718 ],\n",
       "       [11558.59  ],\n",
       "       [11635.944 ],\n",
       "       [11711.798 ],\n",
       "       [11738.063 ],\n",
       "       [11749.304 ],\n",
       "       [11792.738 ],\n",
       "       [11567.734 ],\n",
       "       [11619.185 ],\n",
       "       [11751.94  ],\n",
       "       [11783.074 ],\n",
       "       [11803.721 ],\n",
       "       [11765.269 ],\n",
       "       [11785.45  ],\n",
       "       [11654.755 ],\n",
       "       [11740.838 ],\n",
       "       [11629.697 ],\n",
       "       [11556.62  ],\n",
       "       [11535.099 ],\n",
       "       [11560.125 ],\n",
       "       [11681.475 ],\n",
       "       [11765.338 ],\n",
       "       [11929.959 ],\n",
       "       [12052.543 ],\n",
       "       [12208.854 ],\n",
       "       [12355.419 ],\n",
       "       [12459.967 ],\n",
       "       [12423.214 ],\n",
       "       [12457.695 ],\n",
       "       [12616.833 ],\n",
       "       [12697.012 ],\n",
       "       [12564.6   ],\n",
       "       [12642.14  ],\n",
       "       [12728.41  ],\n",
       "       [12839.56  ],\n",
       "       [12673.937 ],\n",
       "       [12772.148 ],\n",
       "       [12778.893 ],\n",
       "       [12888.532 ],\n",
       "       [12893.582 ],\n",
       "       [12900.595 ],\n",
       "       [13007.187 ],\n",
       "       [13236.198 ],\n",
       "       [13190.687 ],\n",
       "       [13207.668 ],\n",
       "       [13263.256 ],\n",
       "       [13285.059 ],\n",
       "       [13390.012 ],\n",
       "       [13447.47  ],\n",
       "       [13465.136 ],\n",
       "       [13105.341 ],\n",
       "       [13243.252 ],\n",
       "       [13391.357 ],\n",
       "       [13495.578 ],\n",
       "       [13576.089 ],\n",
       "       [13611.933 ],\n",
       "       [13649.245 ],\n",
       "       [13654.521 ],\n",
       "       [13694.607 ],\n",
       "       [13801.503 ],\n",
       "       [13861.412 ],\n",
       "       [13817.272 ],\n",
       "       [13820.462 ],\n",
       "       [14012.762 ],\n",
       "       [14125.708 ],\n",
       "       [14176.756 ],\n",
       "       [14178.517 ],\n",
       "       [14217.55  ],\n",
       "       [14098.026 ],\n",
       "       [13990.948 ],\n",
       "       [14223.125 ],\n",
       "       [14319.154 ],\n",
       "       [14243.402 ],\n",
       "       [14057.612 ],\n",
       "       [13970.815 ],\n",
       "       [13760.779 ],\n",
       "       [13646.466 ],\n",
       "       [13495.388 ],\n",
       "       [14043.885 ],\n",
       "       [14295.067 ],\n",
       "       [14323.592 ],\n",
       "       [14382.342 ],\n",
       "       [14420.259 ],\n",
       "       [14601.568 ],\n",
       "       [14616.799 ],\n",
       "       [14636.349 ],\n",
       "       [14726.646 ],\n",
       "       [14741.988 ],\n",
       "       [14884.661 ],\n",
       "       [14889.62  ],\n",
       "       [14808.695 ],\n",
       "       [14758.185 ],\n",
       "       [14431.951 ],\n",
       "       [14710.162 ],\n",
       "       [14790.109 ],\n",
       "       [14252.781 ],\n",
       "       [14488.6875],\n",
       "       [14624.379 ],\n",
       "       [14837.231 ],\n",
       "       [14649.73  ],\n",
       "       [14528.074 ],\n",
       "       [14580.419 ],\n",
       "       [14711.316 ],\n",
       "       [14758.395 ],\n",
       "       [14625.056 ],\n",
       "       [14557.415 ],\n",
       "       [14568.363 ],\n",
       "       [14414.385 ],\n",
       "       [14285.879 ],\n",
       "       [14462.705 ],\n",
       "       [14432.946 ],\n",
       "       [14468.414 ],\n",
       "       [14229.159 ],\n",
       "       [14049.011 ],\n",
       "       [14236.329 ],\n",
       "       [14505.287 ],\n",
       "       [14320.389 ],\n",
       "       [14452.838 ],\n",
       "       [14268.734 ],\n",
       "       [14320.865 ],\n",
       "       [14453.626 ],\n",
       "       [14488.181 ],\n",
       "       [14446.012 ],\n",
       "       [14009.313 ],\n",
       "       [14231.186 ],\n",
       "       [14312.336 ],\n",
       "       [14304.921 ],\n",
       "       [14066.014 ],\n",
       "       [14026.725 ],\n",
       "       [14137.12  ],\n",
       "       [14063.775 ],\n",
       "       [14167.923 ],\n",
       "       [14296.591 ],\n",
       "       [14447.443 ]], dtype=float32)"
      ]
     },
     "execution_count": 126,
     "metadata": {},
     "output_type": "execute_result"
    }
   ],
   "source": [
    "test_predict"
   ]
  },
  {
   "cell_type": "code",
   "execution_count": 100,
   "metadata": {},
   "outputs": [
    {
     "data": {
      "text/plain": [
       "6859.5884406026835"
      ]
     },
     "execution_count": 100,
     "metadata": {},
     "output_type": "execute_result"
    }
   ],
   "source": [
    "### Calculate RMSE performance metrics\n",
    "import math\n",
    "from sklearn.metrics import mean_squared_error\n",
    "math.sqrt(mean_squared_error(y_train,train_predict))"
   ]
  },
  {
   "cell_type": "code",
   "execution_count": 101,
   "metadata": {},
   "outputs": [
    {
     "data": {
      "text/plain": [
       "11331.36854322177"
      ]
     },
     "execution_count": 101,
     "metadata": {},
     "output_type": "execute_result"
    }
   ],
   "source": [
    "### Test Data RMSE\n",
    "math.sqrt(mean_squared_error(ytest,test_predict))"
   ]
  },
  {
   "cell_type": "code",
   "execution_count": 102,
   "metadata": {},
   "outputs": [
    {
     "data": {
      "image/png": "[encoded data removed]",
      "text/plain": [
       "<Figure size 640x480 with 1 Axes>"
      ]
     },
     "metadata": {},
     "output_type": "display_data"
    }
   ],
   "source": [
    "### Plotting \n",
    "# shift train predictions for plotting\n",
    "look_back=100\n",
    "trainPredictPlot = numpy.empty_like(df1)\n",
    "trainPredictPlot[:, :] = np.nan\n",
    "trainPredictPlot[look_back:len(train_predict)+look_back, :] = train_predict\n",
    "# shift test predictions for plotting\n",
    "testPredictPlot = numpy.empty_like(df1)\n",
    "testPredictPlot[:, :] = numpy.nan\n",
    "testPredictPlot[len(train_predict)+(look_back*2)+1:len(df1)-1, :] = test_predict\n",
    "# plot baseline and predictions\n",
    "plt.plot(scaler.inverse_transform(df1))\n",
    "plt.plot(trainPredictPlot)\n",
    "plt.plot(testPredictPlot)\n",
    "plt.show()"
   ]
  },
  {
   "cell_type": "code",
   "execution_count": 130,
   "metadata": {},
   "outputs": [
    {
     "data": {
      "text/plain": [
       "834"
      ]
     },
     "execution_count": 130,
     "metadata": {},
     "output_type": "execute_result"
    }
   ],
   "source": [
    "l_test_data=len(test_data)-100\n",
    "l_test_data"
   ]
  },
  {
   "cell_type": "code",
   "execution_count": 131,
   "metadata": {},
   "outputs": [
    {
     "data": {
      "text/plain": [
       "(1, 100)"
      ]
     },
     "execution_count": 131,
     "metadata": {},
     "output_type": "execute_result"
    }
   ],
   "source": [
    "x_input=test_data[l_test_data:].reshape(1,-1)\n",
    "x_input.shape\n"
   ]
  },
  {
   "cell_type": "code",
   "execution_count": 127,
   "metadata": {
    "scrolled": true
   },
   "outputs": [
    {
     "data": {
      "text/plain": [
       "array([[[0.78220603],\n",
       "        [0.79521374],\n",
       "        [0.79565014],\n",
       "        [0.79752102],\n",
       "        [0.80909425],\n",
       "        [0.83421377],\n",
       "        [0.8294972 ],\n",
       "        [0.83279787],\n",
       "        [0.83691102],\n",
       "        [0.83781156],\n",
       "        [0.848475  ],\n",
       "        [0.85386008],\n",
       "        [0.85570304],\n",
       "        [0.81557961],\n",
       "        [0.82838305],\n",
       "        [0.8408987 ],\n",
       "        [0.8546539 ],\n",
       "        [0.8661622 ],\n",
       "        [0.87167721],\n",
       "        [0.87625923],\n",
       "        [0.87624064],\n",
       "        [0.87965274],\n",
       "        [0.89027438],\n",
       "        [0.8964579 ],\n",
       "        [0.89151384],\n",
       "        [0.89068747],\n",
       "        [0.91017593],\n",
       "        [0.92294228],\n",
       "        [0.93024929],\n",
       "        [0.93037922],\n",
       "        [0.93323424],\n",
       "        [0.9182025 ],\n",
       "        [0.9040527 ],\n",
       "        [0.92632192],\n",
       "        [0.93779305],\n",
       "        [0.9327468 ],\n",
       "        [0.91246462],\n",
       "        [0.90011608],\n",
       "        [0.87491758],\n",
       "        [0.86099528],\n",
       "        [0.84400904],\n",
       "        [0.90404345],\n",
       "        [0.93808546],\n",
       "        [0.95127896],\n",
       "        [0.96109282],\n",
       "        [0.96374818],\n",
       "        [0.98153285],\n",
       "        [0.98092935],\n",
       "        [0.9806694 ],\n",
       "        [0.98687151],\n",
       "        [0.98594305],\n",
       "        [1.        ],\n",
       "        [0.99988394],\n",
       "        [0.99017689],\n",
       "        [0.98182536],\n",
       "        [0.9436516 ],\n",
       "        [0.96911005],\n",
       "        [0.97981982],\n",
       "        [0.92706469],\n",
       "        [0.94864209],\n",
       "        [0.96326999],\n",
       "        [0.99358427],\n",
       "        [0.97827861],\n",
       "        [0.96503407],\n",
       "        [0.96671464],\n",
       "        [0.97991738],\n",
       "        [0.98701078],\n",
       "        [0.97365489],\n",
       "        [0.96423563],\n",
       "        [0.96246692],\n",
       "        [0.94490503],\n",
       "        [0.9297293 ],\n",
       "        [0.94701265],\n",
       "        [0.94630706],\n",
       "        [0.95358152],\n",
       "        [0.92894482],\n",
       "        [0.90810085],\n",
       "        [0.92503594],\n",
       "        [0.95639937],\n",
       "        [0.94206397],\n",
       "        [0.9584652 ],\n",
       "        [0.93715237],\n",
       "        [0.94139546],\n",
       "        [0.95398074],\n",
       "        [0.95906407],\n",
       "        [0.9554477 ],\n",
       "        [0.90679166],\n",
       "        [0.92480383],\n",
       "        [0.93192052],\n",
       "        [0.93530007],\n",
       "        [0.91130867],\n",
       "        [0.90545473],\n",
       "        [0.9156446 ],\n",
       "        [0.9096281 ],\n",
       "        [0.92296549],\n",
       "        [0.93856828],\n",
       "        [0.95820525],\n",
       "        [0.96102318],\n",
       "        [0.93653028],\n",
       "        [0.89938277]]])"
      ]
     },
     "execution_count": 127,
     "metadata": {},
     "output_type": "execute_result"
    }
   ],
   "source": [
    "x_input"
   ]
  },
  {
   "cell_type": "code",
   "execution_count": null,
   "metadata": {},
   "outputs": [],
   "source": []
  },
  {
   "cell_type": "code",
   "execution_count": 105,
   "metadata": {},
   "outputs": [],
   "source": [
    "temp_input=list(x_input)\n",
    "temp_input=temp_input[0].tolist()"
   ]
  },
  {
   "cell_type": "code",
   "execution_count": 106,
   "metadata": {},
   "outputs": [
    {
     "data": {
      "text/plain": [
       "[0.7838818811643462,\n",
       " 0.7822060258195043,\n",
       " 0.79521374226117,\n",
       " 0.7956501370430111,\n",
       " 0.7975210241875861,\n",
       " 0.80909424919498,\n",
       " 0.8342137700969252,\n",
       " 0.8294972016946767,\n",
       " 0.8327978655434762,\n",
       " 0.8369110246335312,\n",
       " 0.8378115603556886,\n",
       " 0.8484750012309201,\n",
       " 0.8538600808440371,\n",
       " 0.8557030417085081,\n",
       " 0.8155796101315727,\n",
       " 0.8283830472919629,\n",
       " 0.8408986965132081,\n",
       " 0.8546538972867306,\n",
       " 0.8661622023740021,\n",
       " 0.8716772118881775,\n",
       " 0.8762592266485962,\n",
       " 0.8762406388393109,\n",
       " 0.8796527366976219,\n",
       " 0.8902743782135119,\n",
       " 0.8964578989385554,\n",
       " 0.8915138387765129,\n",
       " 0.8906874713844819,\n",
       " 0.9101759250219694,\n",
       " 0.9229422775530653,\n",
       " 0.9302492920801035,\n",
       " 0.930379221981162,\n",
       " 0.9332342426381162,\n",
       " 0.9182024976007603,\n",
       " 0.9040527004762766,\n",
       " 0.9263219154513154,\n",
       " 0.9377930458484782,\n",
       " 0.9327468000869288,\n",
       " 0.9124646200675623,\n",
       " 0.900116075437484,\n",
       " 0.8749175804860883,\n",
       " 0.8609952751213987,\n",
       " 0.8440090442207842,\n",
       " 0.9040434520662721,\n",
       " 0.9380854565999326,\n",
       " 0.9512789564313269,\n",
       " 0.9610928174360094,\n",
       " 0.9637481825524592,\n",
       " 0.9815328545650004,\n",
       " 0.9809293542635305,\n",
       " 0.9806694025436753,\n",
       " 0.9868715110780042,\n",
       " 0.9859430490757428,\n",
       " 1.0,\n",
       " 0.9998839422497174,\n",
       " 0.9901768896568515,\n",
       " 0.9818253563057309,\n",
       " 0.9436516048727306,\n",
       " 0.9691100506155195,\n",
       " 0.9798198236015878,\n",
       " 0.9270646850531246,\n",
       " 0.9486420881348863,\n",
       " 0.9632699884112763,\n",
       " 0.993584272785115,\n",
       " 0.9782786128878518,\n",
       " 0.9650340662155732,\n",
       " 0.9667146372189246,\n",
       " 0.9799173845318616,\n",
       " 0.9870107803783434,\n",
       " 0.9736548906858296,\n",
       " 0.9642356251036464,\n",
       " 0.9624669235585781,\n",
       " 0.9449050285757836,\n",
       " 0.9297292985795789,\n",
       " 0.9470126549616953,\n",
       " 0.9463070600499945,\n",
       " 0.9535815236276954,\n",
       " 0.9289448206077042,\n",
       " 0.9081008486569331,\n",
       " 0.925035941727387,\n",
       " 0.956399369594541,\n",
       " 0.9420639710588814,\n",
       " 0.9584651975495728,\n",
       " 0.9371523708568998,\n",
       " 0.941395459848013,\n",
       " 0.9539807446478898,\n",
       " 0.9590640741102718,\n",
       " 0.9554476960422229,\n",
       " 0.9067916633829483,\n",
       " 0.9248038262268217,\n",
       " 0.9319205236841741,\n",
       " 0.935300070593148,\n",
       " 0.9113086672339685,\n",
       " 0.9054547319504878,\n",
       " 0.915644602425308,\n",
       " 0.9096280962306169,\n",
       " 0.9229654891031218,\n",
       " 0.9385682754103486,\n",
       " 0.9582052467581799,\n",
       " 0.9610231827858398,\n",
       " 0.9365302827461446]"
      ]
     },
     "execution_count": 106,
     "metadata": {},
     "output_type": "execute_result"
    }
   ],
   "source": [
    "temp_input"
   ]
  },
  {
   "cell_type": "code",
   "execution_count": 107,
   "metadata": {},
   "outputs": [
    {
     "name": "stdout",
     "output_type": "stream",
     "text": [
      "[0.89938277]\n",
      "101\n",
      "1 day input [0.78220603 0.79521374 0.79565014 0.79752102 0.80909425 0.83421377\n",
      " 0.8294972  0.83279787 0.83691102 0.83781156 0.848475   0.85386008\n",
      " 0.85570304 0.81557961 0.82838305 0.8408987  0.8546539  0.8661622\n",
      " 0.87167721 0.87625923 0.87624064 0.87965274 0.89027438 0.8964579\n",
      " 0.89151384 0.89068747 0.91017593 0.92294228 0.93024929 0.93037922\n",
      " 0.93323424 0.9182025  0.9040527  0.92632192 0.93779305 0.9327468\n",
      " 0.91246462 0.90011608 0.87491758 0.86099528 0.84400904 0.90404345\n",
      " 0.93808546 0.95127896 0.96109282 0.96374818 0.98153285 0.98092935\n",
      " 0.9806694  0.98687151 0.98594305 1.         0.99988394 0.99017689\n",
      " 0.98182536 0.9436516  0.96911005 0.97981982 0.92706469 0.94864209\n",
      " 0.96326999 0.99358427 0.97827861 0.96503407 0.96671464 0.97991738\n",
      " 0.98701078 0.97365489 0.96423563 0.96246692 0.94490503 0.9297293\n",
      " 0.94701265 0.94630706 0.95358152 0.92894482 0.90810085 0.92503594\n",
      " 0.95639937 0.94206397 0.9584652  0.93715237 0.94139546 0.95398074\n",
      " 0.95906407 0.9554477  0.90679166 0.92480383 0.93192052 0.93530007\n",
      " 0.91130867 0.90545473 0.9156446  0.9096281  0.92296549 0.93856828\n",
      " 0.95820525 0.96102318 0.93653028 0.89938277]\n",
      "1 day output [[0.87122643]]\n",
      "[[0.8993827700614929], [0.87122642993927]]\n"
     ]
    }
   ],
   "source": [
    "# demonstrate prediction for next 10 days\n",
    "from numpy import array\n",
    "\n",
    "lst_output=[]\n",
    "n_steps=100\n",
    "i=0\n",
    "while(i<2):\n",
    "    \n",
    "    if(len(temp_input)>100):\n",
    "        #print(temp_input)\n",
    "        x_input=np.array(temp_input[1:])\n",
    "        print(\"{} day input {}\".format(i,x_input))\n",
    "        x_input=x_input.reshape(1,-1)\n",
    "        x_input = x_input.reshape((1, n_steps, 1))\n",
    "        #print(x_input)\n",
    "        yhat = model.predict(x_input, verbose=0)\n",
    "        print(\"{} day output {}\".format(i,yhat))\n",
    "        temp_input.extend(yhat[0].tolist())\n",
    "        temp_input=temp_input[1:]\n",
    "        #print(temp_input)\n",
    "        lst_output.extend(yhat.tolist())\n",
    "        i=i+1\n",
    "    else:\n",
    "        x_input = x_input.reshape((1, n_steps,1))\n",
    "        yhat = model.predict(x_input, verbose=0)\n",
    "        print(yhat[0])\n",
    "        temp_input.extend(yhat[0].tolist())\n",
    "        print(len(temp_input))\n",
    "        lst_output.extend(yhat.tolist())\n",
    "        i=i+1\n",
    "    \n",
    "\n",
    "print(lst_output)"
   ]
  },
  {
   "cell_type": "code",
   "execution_count": 113,
   "metadata": {},
   "outputs": [],
   "source": [
    "day_new=np.arange(1,101)\n",
    "day_pred=np.arange(101,103)"
   ]
  },
  {
   "cell_type": "code",
   "execution_count": 114,
   "metadata": {},
   "outputs": [
    {
     "data": {
      "text/plain": [
       "100"
      ]
     },
     "execution_count": 114,
     "metadata": {},
     "output_type": "execute_result"
    }
   ],
   "source": [
    "len(day_new)"
   ]
  },
  {
   "cell_type": "code",
   "execution_count": 115,
   "metadata": {},
   "outputs": [],
   "source": [
    "import matplotlib.pyplot as plt"
   ]
  },
  {
   "cell_type": "code",
   "execution_count": 116,
   "metadata": {},
   "outputs": [
    {
     "data": {
      "text/plain": [
       "2667"
      ]
     },
     "execution_count": 116,
     "metadata": {},
     "output_type": "execute_result"
    }
   ],
   "source": [
    "len(df1)"
   ]
  },
  {
   "cell_type": "code",
   "execution_count": 128,
   "metadata": {},
   "outputs": [
    {
     "data": {
      "text/plain": [
       "array([[14231.00232444],\n",
       "       [13927.74446302]])"
      ]
     },
     "execution_count": 128,
     "metadata": {},
     "output_type": "execute_result"
    }
   ],
   "source": [
    "scaler.inverse_transform(lst_output)"
   ]
  },
  {
   "cell_type": "code",
   "execution_count": 117,
   "metadata": {},
   "outputs": [
    {
     "data": {
      "text/plain": [
       "[<matplotlib.lines.Line2D at 0x217b73dfd00>]"
      ]
     },
     "execution_count": 117,
     "metadata": {},
     "output_type": "execute_result"
    },
    {
     "data": {
      "image/png": "[encoded data removed]",
      "text/plain": [
       "<Figure size 640x480 with 1 Axes>"
      ]
     },
     "metadata": {},
     "output_type": "display_data"
    }
   ],
   "source": [
    "plt.plot(day_new,scaler.inverse_transform(df1[2567:]))\n",
    "plt.plot(day_pred,scaler.inverse_transform(lst_output))"
   ]
  },
  {
   "cell_type": "code",
   "execution_count": 123,
   "metadata": {},
   "outputs": [
    {
     "data": {
      "text/plain": [
       "[<matplotlib.lines.Line2D at 0x217b7524b50>]"
      ]
     },
     "execution_count": 123,
     "metadata": {},
     "output_type": "execute_result"
    },
    {
     "data": {
      "image/png": "[encoded data removed]",
      "text/plain": [
       "<Figure size 640x480 with 1 Axes>"
      ]
     },
     "metadata": {},
     "output_type": "display_data"
    }
   ],
   "source": [
    "df3=df1.tolist()\n",
    "df3.extend(lst_output)\n",
    "plt.plot(df3[2500:])"
   ]
  },
  {
   "cell_type": "code",
   "execution_count": 124,
   "metadata": {},
   "outputs": [],
   "source": [
    "df3=scaler.inverse_transform(df3).tolist()"
   ]
  },
  {
   "cell_type": "code",
   "execution_count": 125,
   "metadata": {},
   "outputs": [
    {
     "data": {
      "text/plain": [
       "[<matplotlib.lines.Line2D at 0x217b75a8dc0>]"
      ]
     },
     "execution_count": 125,
     "metadata": {},
     "output_type": "execute_result"
    },
    {
     "data": {
      "image/png": "[encoded data removed]",
      "text/plain": [
       "<Figure size 640x480 with 1 Axes>"
      ]
     },
     "metadata": {},
     "output_type": "display_data"
    }
   ],
   "source": [
    "plt.plot(df3)"
   ]
  },
  {
   "cell_type": "code",
   "execution_count": null,
   "metadata": {},
   "outputs": [],
   "source": []
  }
 ],
 "metadata": {
  "kernelspec": {
   "display_name": "Python 3 (ipykernel)",
   "language": "python",
   "name": "python3"
  },
  "language_info": {
   "codemirror_mode": {
    "name": "ipython",
    "version": 3
   },
   "file_extension": ".py",
   "mimetype": "text/x-python",
   "name": "python",
   "nbconvert_exporter": "python",
   "pygments_lexer": "ipython3",
   "version": "3.10.9"
  }
 },
 "nbformat": 4,
 "nbformat_minor": 2
}
